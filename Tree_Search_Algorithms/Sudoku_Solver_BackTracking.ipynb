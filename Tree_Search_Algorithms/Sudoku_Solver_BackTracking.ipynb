{
 "cells": [
  {
   "cell_type": "code",
   "execution_count": 1,
   "id": "3be54940",
   "metadata": {},
   "outputs": [],
   "source": [
    "import numpy as np"
   ]
  },
  {
   "cell_type": "code",
   "execution_count": 2,
   "id": "6e321271",
   "metadata": {},
   "outputs": [],
   "source": [
    "board_test = [\n",
    "    [0, 0, 0, 0, 8, 6, 0, 0, 0],\n",
    "    [0, 0, 0, 4, 0, 0, 0, 3, 0],\n",
    "    [0, 0, 8, 1, 0, 3, 0, 0, 6],\n",
    "    [3, 0, 0, 0, 0, 4, 0, 9, 7],\n",
    "    [4, 0, 0, 0, 5, 0, 0, 0, 1],\n",
    "    [2, 9, 0, 6, 0, 0, 0, 0, 4],\n",
    "    [9, 0, 0, 2, 0, 1, 6, 0, 0],\n",
    "    [0, 5, 0, 0, 0, 9, 0, 0, 0],\n",
    "    [0, 0, 0, 5, 7, 0, 0, 0, 0]\n",
    "]"
   ]
  },
  {
   "cell_type": "code",
   "execution_count": 3,
   "id": "71e39969",
   "metadata": {},
   "outputs": [],
   "source": [
    "np_board_test = np.array(board_test)"
   ]
  },
  {
   "cell_type": "code",
   "execution_count": 4,
   "id": "620e91de",
   "metadata": {},
   "outputs": [],
   "source": [
    "def print_board(board):\n",
    "    \n",
    "    for i in range(len(board)):\n",
    "    \n",
    "        block_size = int(len(board)**(1/2))\n",
    "    \n",
    "        if i % block_size == 0 and i != 0:\n",
    "            print('- - - - - - - - - - - -')\n",
    "        \n",
    "        for j in range(len(board[0])):\n",
    "            if j % block_size == 0 and j != 0:\n",
    "                print(' | ', end='')\n",
    "                \n",
    "            if j == 8:\n",
    "                print(board[i][j])\n",
    "            else:\n",
    "                print(str(board[i][j]) + ' ', end='')\n",
    "        "
   ]
  },
  {
   "cell_type": "code",
   "execution_count": 5,
   "id": "7ba008e3",
   "metadata": {},
   "outputs": [],
   "source": [
    "#print_board(board_test)"
   ]
  },
  {
   "cell_type": "code",
   "execution_count": 6,
   "id": "13318d83",
   "metadata": {},
   "outputs": [],
   "source": [
    "def find_blank(board):\n",
    "    \n",
    "    for i in range(len(board)):\n",
    "        for j in range(len(board[i])):\n",
    "            if board[i][j] == 0:\n",
    "                return [i, j] #row, col\n",
    "    \n",
    "    return None\n",
    "    "
   ]
  },
  {
   "cell_type": "code",
   "execution_count": 7,
   "id": "320fa856",
   "metadata": {},
   "outputs": [],
   "source": [
    "def valid(board, number, position):\n",
    "    \n",
    "    #Check Row\n",
    "    row_valid = number not in board[position[0]]\n",
    "    \n",
    "    if row_valid is False:\n",
    "        return False\n",
    "    \n",
    "    #Check Column \n",
    "    col_valid = number not in board[:,position[1]]\n",
    "    \n",
    "    if col_valid is False:\n",
    "        return False\n",
    "    \n",
    "    #Check Box\n",
    "    box_co = [i*3 for i in [position[0] // 3, position[1] // 3]]\n",
    "    box = board[box_co[0]:box_co[0]+3, box_co[1]:box_co[1]+3]\n",
    "    \n",
    "    box_valid = number not in box\n",
    "    \n",
    "    if box_valid is False:\n",
    "        return False\n",
    "    \n",
    "    #All Valid\n",
    "    return True\n",
    "    "
   ]
  },
  {
   "cell_type": "code",
   "execution_count": 8,
   "id": "b11e35c2",
   "metadata": {},
   "outputs": [],
   "source": [
    "def solve(board):\n",
    "    \n",
    "    blank = find_blank(board)\n",
    "    if not blank:\n",
    "        return True\n",
    "    \n",
    "    else:\n",
    "        row, col = blank\n",
    "    \n",
    "    for i in range(1,10):\n",
    "        if valid(board, i, [row, col]):\n",
    "            board[row][col] = i\n",
    "            \n",
    "            if solve(board):\n",
    "                return True\n",
    "            \n",
    "            board[row][col] = 0\n",
    "    \n",
    "    return False"
   ]
  },
  {
   "cell_type": "code",
   "execution_count": 9,
   "id": "74e7346c",
   "metadata": {},
   "outputs": [
    {
     "name": "stdout",
     "output_type": "stream",
     "text": [
      "0 0 0  | 0 8 6  | 0 0 0\n",
      "0 0 0  | 4 0 0  | 0 3 0\n",
      "0 0 8  | 1 0 3  | 0 0 6\n",
      "- - - - - - - - - - - -\n",
      "3 0 0  | 0 0 4  | 0 9 7\n",
      "4 0 0  | 0 5 0  | 0 0 1\n",
      "2 9 0  | 6 0 0  | 0 0 4\n",
      "- - - - - - - - - - - -\n",
      "9 0 0  | 2 0 1  | 6 0 0\n",
      "0 5 0  | 0 0 9  | 0 0 0\n",
      "0 0 0  | 5 7 0  | 0 0 0\n",
      "                \n",
      "5 3 2  | 7 8 6  | 4 1 9\n",
      "6 1 9  | 4 2 5  | 7 3 8\n",
      "7 4 8  | 1 9 3  | 5 2 6\n",
      "- - - - - - - - - - - -\n",
      "3 6 5  | 8 1 4  | 2 9 7\n",
      "4 8 7  | 9 5 2  | 3 6 1\n",
      "2 9 1  | 6 3 7  | 8 5 4\n",
      "- - - - - - - - - - - -\n",
      "9 7 3  | 2 4 1  | 6 8 5\n",
      "8 5 4  | 3 6 9  | 1 7 2\n",
      "1 2 6  | 5 7 8  | 9 4 3\n"
     ]
    }
   ],
   "source": [
    "print_board(np_board_test)\n",
    "solve(np_board_test)\n",
    "print('                ')\n",
    "print_board(np_board_test)"
   ]
  }
 ],
 "metadata": {
  "kernelspec": {
   "display_name": "Python 3 (ipykernel)",
   "language": "python",
   "name": "python3"
  },
  "language_info": {
   "codemirror_mode": {
    "name": "ipython",
    "version": 3
   },
   "file_extension": ".py",
   "mimetype": "text/x-python",
   "name": "python",
   "nbconvert_exporter": "python",
   "pygments_lexer": "ipython3",
   "version": "3.8.11"
  }
 },
 "nbformat": 4,
 "nbformat_minor": 5
}
